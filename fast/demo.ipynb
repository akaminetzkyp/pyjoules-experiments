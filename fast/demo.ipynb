{
 "cells": [
  {
   "cell_type": "markdown",
   "metadata": {},
   "source": [
    "### Set GPU clocks"
   ]
  },
  {
   "cell_type": "code",
   "execution_count": 1,
   "metadata": {},
   "outputs": [],
   "source": [
    "from core import *\n",
    "from torch_backend import *"
   ]
  },
  {
   "cell_type": "markdown",
   "metadata": {},
   "source": [
    "### Network definition"
   ]
  },
  {
   "cell_type": "code",
   "execution_count": 2,
   "metadata": {},
   "outputs": [],
   "source": [
    "def conv_bn(c_in, c_out):\n",
    "    return {\n",
    "        'conv': nn.Conv2d(c_in, c_out, kernel_size=3, stride=1, padding=1, bias=False), \n",
    "        'bn': BatchNorm(c_out), \n",
    "        'relu': nn.ReLU(True)\n",
    "    }\n",
    "\n",
    "def residual(c):\n",
    "    return {\n",
    "        'in': Identity(),\n",
    "        'res1': conv_bn(c, c),\n",
    "        'res2': conv_bn(c, c),\n",
    "        'add': (Add(), ['in', 'res2/relu']),\n",
    "    }\n",
    "\n",
    "def net(channels=None, weight=0.125, pool=nn.MaxPool2d(2), extra_layers=(), res_layers=('layer1', 'layer3')):\n",
    "    channels = channels or {'prep': 64, 'layer1': 128, 'layer2': 256, 'layer3': 512}\n",
    "    n = {\n",
    "        'input': (None, []),\n",
    "        'prep': conv_bn(3, channels['prep']),\n",
    "        'layer1': dict(conv_bn(channels['prep'], channels['layer1']), pool=pool),\n",
    "        'layer2': dict(conv_bn(channels['layer1'], channels['layer2']), pool=pool),\n",
    "        'layer3': dict(conv_bn(channels['layer2'], channels['layer3']), pool=pool),\n",
    "        'pool': nn.MaxPool2d(4),\n",
    "        'flatten': Flatten(),\n",
    "        'linear': nn.Linear(channels['layer3'], 10, bias=False),\n",
    "        'logits': Mul(weight),\n",
    "    }\n",
    "    for layer in res_layers:\n",
    "        n[layer]['residual'] = residual(channels[layer])\n",
    "    for layer in extra_layers:\n",
    "        n[layer]['extra'] = conv_bn(channels[layer], channels[layer])       \n",
    "    return n"
   ]
  },
  {
   "cell_type": "markdown",
   "metadata": {},
   "source": [
    "### Download and preprocess data"
   ]
  },
  {
   "cell_type": "code",
   "execution_count": 3,
   "metadata": {},
   "outputs": [
    {
     "name": "stdout",
     "output_type": "stream",
     "text": [
      "Files already downloaded and verified\n",
      "Files already downloaded and verified\n",
      "Preprocessing training data\n",
      "Finished in 2.4 seconds\n",
      "Preprocessing test data\n",
      "Finished in 0.061 seconds\n"
     ]
    }
   ],
   "source": [
    "DATA_DIR = './data'\n",
    "dataset = cifar10(root=DATA_DIR)\n",
    "timer = Timer()\n",
    "print('Preprocessing training data')\n",
    "transforms = [\n",
    "    partial(normalise, mean=np.array(cifar10_mean, dtype=np.float32), std=np.array(cifar10_std, dtype=np.float32)),\n",
    "    partial(transpose, source='NHWC', target='NCHW'), \n",
    "]\n",
    "train_set = list(zip(*preprocess(dataset['train'], [partial(pad, border=4)] + transforms).values()))\n",
    "print(f'Finished in {timer():.2} seconds')\n",
    "print('Preprocessing test data')\n",
    "valid_set = list(zip(*preprocess(dataset['valid'], transforms).values()))\n",
    "print(f'Finished in {timer():.2} seconds')"
   ]
  },
  {
   "cell_type": "markdown",
   "metadata": {},
   "source": [
    "### Network visualisation"
   ]
  },
  {
   "cell_type": "code",
   "execution_count": 4,
   "metadata": {},
   "outputs": [],
   "source": [
    "# colors = ColorMap()\n",
    "# draw = lambda graph: DotGraph({p: ({'fillcolor': colors[type(v)], 'tooltip': repr(v)}, inputs) for p, (v, inputs) in graph.items() if v is not None})\n",
    "\n",
    "# draw(build_graph(net()))"
   ]
  },
  {
   "cell_type": "markdown",
   "metadata": {},
   "source": [
    "### Training\n",
    "\n",
    "NB: on the first run, the first epoch will be slower as initialisation and Cudnn benchmarking take place."
   ]
  },
  {
   "cell_type": "code",
   "execution_count": 5,
   "metadata": {},
   "outputs": [],
   "source": [
    "def save_run(dirnames_csv, filename_csv, trace, train_accs, valid_accs):\n",
    "    if not os.path.exists(os.path.join(*dirnames_csv)):\n",
    "        os.makedirs(os.path.join(*dirnames_csv))\n",
    "    with open(filename_csv, 'w') as file:\n",
    "        for index, sample in enumerate(trace):\n",
    "            if index == 0:\n",
    "                string = f'epoch,duration,train acc,valid acc,'\n",
    "                for domain in sample.energy.keys():\n",
    "                    string += f'{domain} energy,'\n",
    "                for domain in sample.energy.keys():\n",
    "                    string += f'{domain} power,'\n",
    "                string = string[:-1] + '\\n'\n",
    "                file.write(string)\n",
    "            string = f'{sample.tag},{sample.duration},{train_accs[index]},{valid_accs[index]},'\n",
    "            for domain, energy in sample.energy.items():\n",
    "                if 'nvidia_gpu' in domain:\n",
    "                    energy *= 1000\n",
    "                if energy < 0:\n",
    "                    if 'package' in domain:\n",
    "                        energy += 262143328850\n",
    "                    elif 'dram' in domain:\n",
    "                        energy += 65712999613\n",
    "                energy /= 1e6\n",
    "                string += f'{energy},'\n",
    "            for domain, energy in sample.energy.items():\n",
    "                if 'nvidia_gpu' in domain:\n",
    "                    energy *= 1000\n",
    "                if energy < 0:\n",
    "                    if 'package' in domain:\n",
    "                        energy += 262143328850\n",
    "                    elif 'dram' in domain:\n",
    "                        energy += 65712999613 \n",
    "                energy /= 1e6\n",
    "                string += f'{energy/sample.duration},'\n",
    "            string = string[:-1] + '\\n'\n",
    "            file.write(string)"
   ]
  },
  {
   "cell_type": "code",
   "execution_count": null,
   "metadata": {},
   "outputs": [
    {
     "name": "stdout",
     "output_type": "stream",
     "text": [
      "Starting run 0 at 2021-11-23 13:54:09\n",
      "Epoch 0/9\n"
     ]
    },
    {
     "name": "stderr",
     "output_type": "stream",
     "text": [
      "/tmp/fast/torch_backend.py:248: UserWarning: This overload of add_ is deprecated:\n",
      "\tadd_(Number alpha, Tensor other)\n",
      "Consider using one of the following signatures instead:\n",
      "\tadd_(Tensor other, *, Number alpha) (Triggered internally at  /opt/pytorch/pytorch/torch/csrc/utils/python_arg_parser.cpp:1026.)\n",
      "  dw.add_(weight_decay, w).mul_(-lr)\n"
     ]
    },
    {
     "name": "stdout",
     "output_type": "stream",
     "text": [
      "Epoch 1/9\n",
      "Epoch 2/9\n",
      "Epoch 3/9\n"
     ]
    }
   ],
   "source": [
    "# import time\n",
    "import os\n",
    "import datetime\n",
    "\n",
    "from pyJoules.device import DeviceFactory\n",
    "from pyJoules.energy_meter import EnergyMeter\n",
    "\n",
    "epochs = 10\n",
    "N_runs = 10\n",
    "\n",
    "\n",
    "DIRNAMES_CSV = ['csv', datetime.datetime.now().strftime(f'cifar10-fast-%Y-%m-%d-%H-%M-%S')]\n",
    "\n",
    "lr_schedule = PiecewiseLinear([0, 5, epochs], [0, 0.4, 0])\n",
    "batch_size = 512\n",
    "train_transforms = [Crop(32, 32), FlipLR(), Cutout(8, 8)]\n",
    "\n",
    "train_batches = DataLoader(Transform(train_set, train_transforms), batch_size, shuffle=True, set_random_choices=True, drop_last=True)\n",
    "valid_batches = DataLoader(valid_set, batch_size, shuffle=False, drop_last=False)\n",
    "lr = lambda step: lr_schedule(step/len(train_batches))/batch_size\n",
    "\n",
    "summaries = []\n",
    "for i in range(N_runs):\n",
    "    print(f'Starting run {i} at {localtime()}')\n",
    "    devices = DeviceFactory.create_devices()\n",
    "    meter = EnergyMeter(devices)\n",
    "    \n",
    "    \n",
    "    start_time = time.time()\n",
    "    model = Network(net()).to(device)\n",
    "    if device != cpu:\n",
    "        model = model.half()\n",
    "    opts = [SGD(trainable_params(model).values(), {'lr': lr, 'weight_decay': Const(5e-4*batch_size), 'momentum': Const(0.9)})]\n",
    "    logs, state = Table(), {MODEL: model, LOSS: x_ent_loss, OPTS: opts}\n",
    "    train_accs = []\n",
    "    valid_accs = []\n",
    "    for epoch in range(epochs):\n",
    "        if epoch == 0:\n",
    "            meter.start(tag=1)\n",
    "        else:\n",
    "            meter.record(tag=epoch+1)\n",
    "            \n",
    "        print(f'Epoch {epoch}/{epochs-1}')\n",
    "        synch = None if device == cpu else torch.cuda.synchronize\n",
    "        stats = train_epoch(state, Timer(synch), train_batches, valid_batches)\n",
    "        #logs.append(union({'epoch': epoch+1}, stats))\n",
    "        \n",
    "        train_accs.append(stats['train']['acc'])\n",
    "        valid_accs.append(stats['valid']['acc'])\n",
    "        \n",
    "    meter.stop()\n",
    "    \n",
    "    print(f'Duration: {time.time() - start_time}')\n",
    "    \n",
    "    trace = meter.get_trace()\n",
    "    \n",
    "    FILENAME_CSV = os.path.join(\n",
    "        *DIRNAMES_CSV,\n",
    "        f'run-{i:02d}.csv')\n",
    "    \n",
    "    save_run(DIRNAMES_CSV, FILENAME_CSV, trace, train_accs, valid_accs)"
   ]
  },
  {
   "cell_type": "code",
   "execution_count": null,
   "metadata": {},
   "outputs": [],
   "source": []
  }
 ],
 "metadata": {
  "kernelspec": {
   "display_name": "Python 3 (ipykernel)",
   "language": "python",
   "name": "python3"
  },
  "language_info": {
   "codemirror_mode": {
    "name": "ipython",
    "version": 3
   },
   "file_extension": ".py",
   "mimetype": "text/x-python",
   "name": "python",
   "nbconvert_exporter": "python",
   "pygments_lexer": "ipython3",
   "version": "3.8.10"
  }
 },
 "nbformat": 4,
 "nbformat_minor": 4
}
