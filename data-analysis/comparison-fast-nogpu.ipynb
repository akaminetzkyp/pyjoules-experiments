{
 "cells": [
  {
   "cell_type": "markdown",
   "id": "1817126a",
   "metadata": {},
   "source": [
    "# PyTorch and CIFAR10 data analysis"
   ]
  },
  {
   "cell_type": "code",
   "execution_count": 62,
   "id": "dec80118",
   "metadata": {},
   "outputs": [],
   "source": [
    "import matplotlib.pyplot as plt\n",
    "import numpy as np\n",
    "import os\n",
    "import pandas as pd\n",
    "import seaborn as sns"
   ]
  },
  {
   "cell_type": "code",
   "execution_count": 63,
   "id": "9dba47fa",
   "metadata": {},
   "outputs": [],
   "source": [
    "sns.set_theme(style='white', palette='pastel')"
   ]
  },
  {
   "cell_type": "code",
   "execution_count": 64,
   "id": "b1507d7a",
   "metadata": {},
   "outputs": [],
   "source": [
    "DATA_DIRS = {\n",
    "    'all': os.path.join('csv', 'fast-nogpu', '2021-11-23-12-06-32-all'),\n",
    "    'core 1, 3 - no hyper': os.path.join('csv', 'fast-nogpu', '2021-11-23-13-54-09-core1,3-nohyper'),\n",
    "    'core 1 - hyper': os.path.join('csv', 'fast-nogpu', '2021-11-23-17-00-16-core1-hyper'),\n",
    "    'core 1 - no hyper': os.path.join('csv', 'fast-nogpu', '2021-11-24-09-41-13-core1-nohyper'),\n",
    "}"
   ]
  },
  {
   "cell_type": "code",
   "execution_count": 65,
   "id": "bee16e03",
   "metadata": {},
   "outputs": [],
   "source": [
    "dfs = {}\n",
    "\n",
    "for name, data_dir in DATA_DIRS.items():\n",
    "    run_filenames = (\n",
    "        {int(file.name.split('-')[1][:-4]): file.name\n",
    "         for file in sorted(list(os.scandir(data_dir)), key=lambda x: x.name)\n",
    "         if file.is_file() and not file.name.startswith('.')}\n",
    "    )\n",
    "\n",
    "    df = pd.concat(\n",
    "        [pd.concat({num: pd.read_csv(os.path.join(data_dir, filename), index_col='epoch')}, names=['run'])\n",
    "         for num, filename in list(run_filenames.items())[:]]\n",
    "    )\n",
    "    \n",
    "    dfs[name] = df\n",
    "    \n",
    "df = pd.concat(dfs)\n",
    "df.index.set_names(['setup', 'run', 'epoch'], inplace=True)"
   ]
  },
  {
   "cell_type": "markdown",
   "id": "5ee30040",
   "metadata": {},
   "source": [
    "## Preview of the dataframe"
   ]
  },
  {
   "cell_type": "code",
   "execution_count": 66,
   "id": "f40a2057",
   "metadata": {},
   "outputs": [
    {
     "data": {
      "text/html": [
       "<div>\n",
       "<style scoped>\n",
       "    .dataframe tbody tr th:only-of-type {\n",
       "        vertical-align: middle;\n",
       "    }\n",
       "\n",
       "    .dataframe tbody tr th {\n",
       "        vertical-align: top;\n",
       "    }\n",
       "\n",
       "    .dataframe thead th {\n",
       "        text-align: right;\n",
       "    }\n",
       "</style>\n",
       "<table border=\"1\" class=\"dataframe\">\n",
       "  <thead>\n",
       "    <tr style=\"text-align: right;\">\n",
       "      <th></th>\n",
       "      <th></th>\n",
       "      <th></th>\n",
       "      <th>duration</th>\n",
       "      <th>train acc</th>\n",
       "      <th>valid acc</th>\n",
       "      <th>package_0 energy</th>\n",
       "      <th>package_1 energy</th>\n",
       "      <th>dram_0 energy</th>\n",
       "      <th>dram_1 energy</th>\n",
       "      <th>package_0 power</th>\n",
       "      <th>package_1 power</th>\n",
       "      <th>dram_0 power</th>\n",
       "      <th>dram_1 power</th>\n",
       "    </tr>\n",
       "    <tr>\n",
       "      <th>setup</th>\n",
       "      <th>run</th>\n",
       "      <th>epoch</th>\n",
       "      <th></th>\n",
       "      <th></th>\n",
       "      <th></th>\n",
       "      <th></th>\n",
       "      <th></th>\n",
       "      <th></th>\n",
       "      <th></th>\n",
       "      <th></th>\n",
       "      <th></th>\n",
       "      <th></th>\n",
       "      <th></th>\n",
       "    </tr>\n",
       "  </thead>\n",
       "  <tbody>\n",
       "    <tr>\n",
       "      <th>all</th>\n",
       "      <th>0</th>\n",
       "      <th>1</th>\n",
       "      <td>164.119781</td>\n",
       "      <td>0.406351</td>\n",
       "      <td>0.5299</td>\n",
       "      <td>20451.754407</td>\n",
       "      <td>20436.030752</td>\n",
       "      <td>2086.460632</td>\n",
       "      <td>2281.221493</td>\n",
       "      <td>124.614805</td>\n",
       "      <td>124.518999</td>\n",
       "      <td>12.713036</td>\n",
       "      <td>13.899735</td>\n",
       "    </tr>\n",
       "    <tr>\n",
       "      <th>core 1, 3 - no hyper</th>\n",
       "      <th>0</th>\n",
       "      <th>1</th>\n",
       "      <td>537.901641</td>\n",
       "      <td>0.404136</td>\n",
       "      <td>0.4721</td>\n",
       "      <td>26415.843202</td>\n",
       "      <td>41386.642157</td>\n",
       "      <td>2521.688763</td>\n",
       "      <td>5216.202164</td>\n",
       "      <td>49.109059</td>\n",
       "      <td>76.940911</td>\n",
       "      <td>4.688011</td>\n",
       "      <td>9.697316</td>\n",
       "    </tr>\n",
       "    <tr>\n",
       "      <th>core 1 - hyper</th>\n",
       "      <th>0</th>\n",
       "      <th>1</th>\n",
       "      <td>997.403426</td>\n",
       "      <td>0.419298</td>\n",
       "      <td>0.5478</td>\n",
       "      <td>48936.208768</td>\n",
       "      <td>65608.037304</td>\n",
       "      <td>4667.494469</td>\n",
       "      <td>9200.949218</td>\n",
       "      <td>49.063606</td>\n",
       "      <td>65.778837</td>\n",
       "      <td>4.679646</td>\n",
       "      <td>9.224902</td>\n",
       "    </tr>\n",
       "    <tr>\n",
       "      <th>core 1 - no hyper</th>\n",
       "      <th>0</th>\n",
       "      <th>1</th>\n",
       "      <td>1083.765024</td>\n",
       "      <td>0.407639</td>\n",
       "      <td>0.5850</td>\n",
       "      <td>52904.081301</td>\n",
       "      <td>68367.543606</td>\n",
       "      <td>5027.861994</td>\n",
       "      <td>9895.495029</td>\n",
       "      <td>48.815085</td>\n",
       "      <td>63.083364</td>\n",
       "      <td>4.639255</td>\n",
       "      <td>9.130665</td>\n",
       "    </tr>\n",
       "  </tbody>\n",
       "</table>\n",
       "</div>"
      ],
      "text/plain": [
       "                                   duration  train acc  valid acc  \\\n",
       "setup                run epoch                                      \n",
       "all                  0   1       164.119781   0.406351     0.5299   \n",
       "core 1, 3 - no hyper 0   1       537.901641   0.404136     0.4721   \n",
       "core 1 - hyper       0   1       997.403426   0.419298     0.5478   \n",
       "core 1 - no hyper    0   1      1083.765024   0.407639     0.5850   \n",
       "\n",
       "                                package_0 energy  package_1 energy  \\\n",
       "setup                run epoch                                       \n",
       "all                  0   1          20451.754407      20436.030752   \n",
       "core 1, 3 - no hyper 0   1          26415.843202      41386.642157   \n",
       "core 1 - hyper       0   1          48936.208768      65608.037304   \n",
       "core 1 - no hyper    0   1          52904.081301      68367.543606   \n",
       "\n",
       "                                dram_0 energy  dram_1 energy  package_0 power  \\\n",
       "setup                run epoch                                                  \n",
       "all                  0   1        2086.460632    2281.221493       124.614805   \n",
       "core 1, 3 - no hyper 0   1        2521.688763    5216.202164        49.109059   \n",
       "core 1 - hyper       0   1        4667.494469    9200.949218        49.063606   \n",
       "core 1 - no hyper    0   1        5027.861994    9895.495029        48.815085   \n",
       "\n",
       "                                package_1 power  dram_0 power  dram_1 power  \n",
       "setup                run epoch                                               \n",
       "all                  0   1           124.518999     12.713036     13.899735  \n",
       "core 1, 3 - no hyper 0   1            76.940911      4.688011      9.697316  \n",
       "core 1 - hyper       0   1            65.778837      4.679646      9.224902  \n",
       "core 1 - no hyper    0   1            63.083364      4.639255      9.130665  "
      ]
     },
     "execution_count": 66,
     "metadata": {},
     "output_type": "execute_result"
    }
   ],
   "source": [
    "df"
   ]
  },
  {
   "cell_type": "markdown",
   "id": "e5abc1a2",
   "metadata": {},
   "source": [
    "## Total energy consumption"
   ]
  },
  {
   "cell_type": "code",
   "execution_count": 107,
   "id": "4ab3a725",
   "metadata": {},
   "outputs": [],
   "source": [
    "df_sum_energy_setup = df.filter(regex='energy').sum(axis=1).groupby(level=['setup', 'run']).sum().unstack(level='setup')"
   ]
  },
  {
   "cell_type": "code",
   "execution_count": 108,
   "id": "afdabc55",
   "metadata": {},
   "outputs": [
    {
     "data": {
      "image/png": "[encoded data removed]",
      "text/plain": [
       "<Figure size 1152x648 with 1 Axes>"
      ]
     },
     "metadata": {},
     "output_type": "display_data"
    }
   ],
   "source": [
    "fig, ax = plt.subplots(figsize=(16, 9))\n",
    "\n",
    "sns.boxplot(data=df_sum_energy_setup, ax=ax)\n",
    "ax.set_title('Total energy consumption')\n",
    "ax.set_ylabel('Energy [J]')\n",
    "for x_pos, energy in zip(ax.get_xticks(), df_sum_energy_setup.mean()):\n",
    "    ax.text(x_pos+0.45, energy, f'Mean: {round(energy)}', horizontalalignment='left', verticalalignment='center')\n",
    "ax.set_xlim(ax.get_xticks()[0]-0.5, ax.get_xticks()[-1]+1);"
   ]
  },
  {
   "cell_type": "markdown",
   "id": "a21116e5",
   "metadata": {},
   "source": [
    "## Package power consumption"
   ]
  },
  {
   "cell_type": "code",
   "execution_count": 109,
   "id": "1d9323ff",
   "metadata": {},
   "outputs": [],
   "source": [
    "df_sum_package_energy_setup = df.filter(regex='(?=.*package_)(?=.*power)').sum(axis=1).groupby(level=['setup', 'run']).sum().unstack(level='setup')"
   ]
  },
  {
   "cell_type": "code",
   "execution_count": 110,
   "id": "938cb34e",
   "metadata": {},
   "outputs": [
    {
     "data": {
      "image/png": "[encoded data removed]",
      "text/plain": [
       "<Figure size 1152x648 with 1 Axes>"
      ]
     },
     "metadata": {},
     "output_type": "display_data"
    }
   ],
   "source": [
    "fig, ax = plt.subplots(figsize=(16, 9))\n",
    "\n",
    "sns.boxplot(data=df_sum_package_energy_setup, ax=ax)\n",
    "ax.set_title('Package power consumption')\n",
    "ax.set_ylabel('Power [W]')\n",
    "for x_pos, energy in zip(ax.get_xticks(), df_sum_package_energy_setup.mean()):\n",
    "    ax.text(x_pos+0.45, energy, f'Mean: {round(energy)}', horizontalalignment='left', verticalalignment='center')\n",
    "ax.set_xlim(ax.get_xticks()[0]-0.5, ax.get_xticks()[-1]+1);"
   ]
  }
 ],
 "metadata": {
  "kernelspec": {
   "display_name": "Python 3 (ipykernel)",
   "language": "python",
   "name": "python3"
  },
  "language_info": {
   "codemirror_mode": {
    "name": "ipython",
    "version": 3
   },
   "file_extension": ".py",
   "mimetype": "text/x-python",
   "name": "python",
   "nbconvert_exporter": "python",
   "pygments_lexer": "ipython3",
   "version": "3.8.10"
  }
 },
 "nbformat": 4,
 "nbformat_minor": 5
}
